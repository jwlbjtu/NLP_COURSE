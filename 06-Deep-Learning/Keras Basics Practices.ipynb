{
 "cells": [
  {
   "cell_type": "code",
   "execution_count": 1,
   "metadata": {},
   "outputs": [],
   "source": [
    "import numpy as np\n",
    "import pandas as pd"
   ]
  },
  {
   "cell_type": "code",
   "execution_count": 1,
   "metadata": {},
   "outputs": [],
   "source": [
    "from sklearn.datasets import load_iris"
   ]
  },
  {
   "cell_type": "code",
   "execution_count": 2,
   "metadata": {},
   "outputs": [],
   "source": [
    "iris = load_iris()"
   ]
  },
  {
   "cell_type": "code",
   "execution_count": 3,
   "metadata": {},
   "outputs": [
    {
     "data": {
      "text/plain": [
       "sklearn.utils.Bunch"
      ]
     },
     "execution_count": 3,
     "metadata": {},
     "output_type": "execute_result"
    }
   ],
   "source": [
    "type(iris)"
   ]
  },
  {
   "cell_type": "code",
   "execution_count": 4,
   "metadata": {},
   "outputs": [
    {
     "name": "stdout",
     "output_type": "stream",
     "text": [
      ".. _iris_dataset:\n",
      "\n",
      "Iris plants dataset\n",
      "--------------------\n",
      "\n",
      "**Data Set Characteristics:**\n",
      "\n",
      "    :Number of Instances: 150 (50 in each of three classes)\n",
      "    :Number of Attributes: 4 numeric, predictive attributes and the class\n",
      "    :Attribute Information:\n",
      "        - sepal length in cm\n",
      "        - sepal width in cm\n",
      "        - petal length in cm\n",
      "        - petal width in cm\n",
      "        - class:\n",
      "                - Iris-Setosa\n",
      "                - Iris-Versicolour\n",
      "                - Iris-Virginica\n",
      "                \n",
      "    :Summary Statistics:\n",
      "\n",
      "    ============== ==== ==== ======= ===== ====================\n",
      "                    Min  Max   Mean    SD   Class Correlation\n",
      "    ============== ==== ==== ======= ===== ====================\n",
      "    sepal length:   4.3  7.9   5.84   0.83    0.7826\n",
      "    sepal width:    2.0  4.4   3.05   0.43   -0.4194\n",
      "    petal length:   1.0  6.9   3.76   1.76    0.9490  (high!)\n",
      "    petal width:    0.1  2.5   1.20   0.76    0.9565  (high!)\n",
      "    ============== ==== ==== ======= ===== ====================\n",
      "\n",
      "    :Missing Attribute Values: None\n",
      "    :Class Distribution: 33.3% for each of 3 classes.\n",
      "    :Creator: R.A. Fisher\n",
      "    :Donor: Michael Marshall (MARSHALL%PLU@io.arc.nasa.gov)\n",
      "    :Date: July, 1988\n",
      "\n",
      "The famous Iris database, first used by Sir R.A. Fisher. The dataset is taken\n",
      "from Fisher's paper. Note that it's the same as in R, but not as in the UCI\n",
      "Machine Learning Repository, which has two wrong data points.\n",
      "\n",
      "This is perhaps the best known database to be found in the\n",
      "pattern recognition literature.  Fisher's paper is a classic in the field and\n",
      "is referenced frequently to this day.  (See Duda & Hart, for example.)  The\n",
      "data set contains 3 classes of 50 instances each, where each class refers to a\n",
      "type of iris plant.  One class is linearly separable from the other 2; the\n",
      "latter are NOT linearly separable from each other.\n",
      "\n",
      ".. topic:: References\n",
      "\n",
      "   - Fisher, R.A. \"The use of multiple measurements in taxonomic problems\"\n",
      "     Annual Eugenics, 7, Part II, 179-188 (1936); also in \"Contributions to\n",
      "     Mathematical Statistics\" (John Wiley, NY, 1950).\n",
      "   - Duda, R.O., & Hart, P.E. (1973) Pattern Classification and Scene Analysis.\n",
      "     (Q327.D83) John Wiley & Sons.  ISBN 0-471-22361-1.  See page 218.\n",
      "   - Dasarathy, B.V. (1980) \"Nosing Around the Neighborhood: A New System\n",
      "     Structure and Classification Rule for Recognition in Partially Exposed\n",
      "     Environments\".  IEEE Transactions on Pattern Analysis and Machine\n",
      "     Intelligence, Vol. PAMI-2, No. 1, 67-71.\n",
      "   - Gates, G.W. (1972) \"The Reduced Nearest Neighbor Rule\".  IEEE Transactions\n",
      "     on Information Theory, May 1972, 431-433.\n",
      "   - See also: 1988 MLC Proceedings, 54-64.  Cheeseman et al\"s AUTOCLASS II\n",
      "     conceptual clustering system finds 3 classes in the data.\n",
      "   - Many, many more ...\n"
     ]
    }
   ],
   "source": [
    "print(iris.DESCR)"
   ]
  },
  {
   "cell_type": "code",
   "execution_count": 5,
   "metadata": {},
   "outputs": [],
   "source": [
    "X = iris.data"
   ]
  },
  {
   "cell_type": "code",
   "execution_count": 6,
   "metadata": {},
   "outputs": [],
   "source": [
    "y = iris.target"
   ]
  },
  {
   "cell_type": "code",
   "execution_count": 7,
   "metadata": {},
   "outputs": [
    {
     "data": {
      "text/plain": [
       "array([0, 0, 0, 0, 0, 0, 0, 0, 0, 0, 0, 0, 0, 0, 0, 0, 0, 0, 0, 0, 0, 0,\n",
       "       0, 0, 0, 0, 0, 0, 0, 0, 0, 0, 0, 0, 0, 0, 0, 0, 0, 0, 0, 0, 0, 0,\n",
       "       0, 0, 0, 0, 0, 0, 1, 1, 1, 1, 1, 1, 1, 1, 1, 1, 1, 1, 1, 1, 1, 1,\n",
       "       1, 1, 1, 1, 1, 1, 1, 1, 1, 1, 1, 1, 1, 1, 1, 1, 1, 1, 1, 1, 1, 1,\n",
       "       1, 1, 1, 1, 1, 1, 1, 1, 1, 1, 1, 1, 2, 2, 2, 2, 2, 2, 2, 2, 2, 2,\n",
       "       2, 2, 2, 2, 2, 2, 2, 2, 2, 2, 2, 2, 2, 2, 2, 2, 2, 2, 2, 2, 2, 2,\n",
       "       2, 2, 2, 2, 2, 2, 2, 2, 2, 2, 2, 2, 2, 2, 2, 2, 2, 2])"
      ]
     },
     "execution_count": 7,
     "metadata": {},
     "output_type": "execute_result"
    }
   ],
   "source": [
    "y"
   ]
  },
  {
   "cell_type": "code",
   "execution_count": 8,
   "metadata": {},
   "outputs": [
    {
     "name": "stderr",
     "output_type": "stream",
     "text": [
      "Using TensorFlow backend.\n"
     ]
    }
   ],
   "source": [
    "from keras.utils import to_categorical"
   ]
  },
  {
   "cell_type": "code",
   "execution_count": 9,
   "metadata": {},
   "outputs": [],
   "source": [
    "y = to_categorical(y)"
   ]
  },
  {
   "cell_type": "code",
   "execution_count": 10,
   "metadata": {},
   "outputs": [
    {
     "data": {
      "text/plain": [
       "(150, 3)"
      ]
     },
     "execution_count": 10,
     "metadata": {},
     "output_type": "execute_result"
    }
   ],
   "source": [
    "y.shape"
   ]
  },
  {
   "cell_type": "code",
   "execution_count": 11,
   "metadata": {},
   "outputs": [
    {
     "data": {
      "text/plain": [
       "array([[1., 0., 0.],\n",
       "       [1., 0., 0.],\n",
       "       [1., 0., 0.],\n",
       "       [1., 0., 0.],\n",
       "       [1., 0., 0.],\n",
       "       [1., 0., 0.],\n",
       "       [1., 0., 0.],\n",
       "       [1., 0., 0.],\n",
       "       [1., 0., 0.],\n",
       "       [1., 0., 0.],\n",
       "       [1., 0., 0.],\n",
       "       [1., 0., 0.],\n",
       "       [1., 0., 0.],\n",
       "       [1., 0., 0.],\n",
       "       [1., 0., 0.],\n",
       "       [1., 0., 0.],\n",
       "       [1., 0., 0.],\n",
       "       [1., 0., 0.],\n",
       "       [1., 0., 0.],\n",
       "       [1., 0., 0.],\n",
       "       [1., 0., 0.],\n",
       "       [1., 0., 0.],\n",
       "       [1., 0., 0.],\n",
       "       [1., 0., 0.],\n",
       "       [1., 0., 0.],\n",
       "       [1., 0., 0.],\n",
       "       [1., 0., 0.],\n",
       "       [1., 0., 0.],\n",
       "       [1., 0., 0.],\n",
       "       [1., 0., 0.],\n",
       "       [1., 0., 0.],\n",
       "       [1., 0., 0.],\n",
       "       [1., 0., 0.],\n",
       "       [1., 0., 0.],\n",
       "       [1., 0., 0.],\n",
       "       [1., 0., 0.],\n",
       "       [1., 0., 0.],\n",
       "       [1., 0., 0.],\n",
       "       [1., 0., 0.],\n",
       "       [1., 0., 0.],\n",
       "       [1., 0., 0.],\n",
       "       [1., 0., 0.],\n",
       "       [1., 0., 0.],\n",
       "       [1., 0., 0.],\n",
       "       [1., 0., 0.],\n",
       "       [1., 0., 0.],\n",
       "       [1., 0., 0.],\n",
       "       [1., 0., 0.],\n",
       "       [1., 0., 0.],\n",
       "       [1., 0., 0.],\n",
       "       [0., 1., 0.],\n",
       "       [0., 1., 0.],\n",
       "       [0., 1., 0.],\n",
       "       [0., 1., 0.],\n",
       "       [0., 1., 0.],\n",
       "       [0., 1., 0.],\n",
       "       [0., 1., 0.],\n",
       "       [0., 1., 0.],\n",
       "       [0., 1., 0.],\n",
       "       [0., 1., 0.],\n",
       "       [0., 1., 0.],\n",
       "       [0., 1., 0.],\n",
       "       [0., 1., 0.],\n",
       "       [0., 1., 0.],\n",
       "       [0., 1., 0.],\n",
       "       [0., 1., 0.],\n",
       "       [0., 1., 0.],\n",
       "       [0., 1., 0.],\n",
       "       [0., 1., 0.],\n",
       "       [0., 1., 0.],\n",
       "       [0., 1., 0.],\n",
       "       [0., 1., 0.],\n",
       "       [0., 1., 0.],\n",
       "       [0., 1., 0.],\n",
       "       [0., 1., 0.],\n",
       "       [0., 1., 0.],\n",
       "       [0., 1., 0.],\n",
       "       [0., 1., 0.],\n",
       "       [0., 1., 0.],\n",
       "       [0., 1., 0.],\n",
       "       [0., 1., 0.],\n",
       "       [0., 1., 0.],\n",
       "       [0., 1., 0.],\n",
       "       [0., 1., 0.],\n",
       "       [0., 1., 0.],\n",
       "       [0., 1., 0.],\n",
       "       [0., 1., 0.],\n",
       "       [0., 1., 0.],\n",
       "       [0., 1., 0.],\n",
       "       [0., 1., 0.],\n",
       "       [0., 1., 0.],\n",
       "       [0., 1., 0.],\n",
       "       [0., 1., 0.],\n",
       "       [0., 1., 0.],\n",
       "       [0., 1., 0.],\n",
       "       [0., 1., 0.],\n",
       "       [0., 1., 0.],\n",
       "       [0., 1., 0.],\n",
       "       [0., 1., 0.],\n",
       "       [0., 1., 0.],\n",
       "       [0., 0., 1.],\n",
       "       [0., 0., 1.],\n",
       "       [0., 0., 1.],\n",
       "       [0., 0., 1.],\n",
       "       [0., 0., 1.],\n",
       "       [0., 0., 1.],\n",
       "       [0., 0., 1.],\n",
       "       [0., 0., 1.],\n",
       "       [0., 0., 1.],\n",
       "       [0., 0., 1.],\n",
       "       [0., 0., 1.],\n",
       "       [0., 0., 1.],\n",
       "       [0., 0., 1.],\n",
       "       [0., 0., 1.],\n",
       "       [0., 0., 1.],\n",
       "       [0., 0., 1.],\n",
       "       [0., 0., 1.],\n",
       "       [0., 0., 1.],\n",
       "       [0., 0., 1.],\n",
       "       [0., 0., 1.],\n",
       "       [0., 0., 1.],\n",
       "       [0., 0., 1.],\n",
       "       [0., 0., 1.],\n",
       "       [0., 0., 1.],\n",
       "       [0., 0., 1.],\n",
       "       [0., 0., 1.],\n",
       "       [0., 0., 1.],\n",
       "       [0., 0., 1.],\n",
       "       [0., 0., 1.],\n",
       "       [0., 0., 1.],\n",
       "       [0., 0., 1.],\n",
       "       [0., 0., 1.],\n",
       "       [0., 0., 1.],\n",
       "       [0., 0., 1.],\n",
       "       [0., 0., 1.],\n",
       "       [0., 0., 1.],\n",
       "       [0., 0., 1.],\n",
       "       [0., 0., 1.],\n",
       "       [0., 0., 1.],\n",
       "       [0., 0., 1.],\n",
       "       [0., 0., 1.],\n",
       "       [0., 0., 1.],\n",
       "       [0., 0., 1.],\n",
       "       [0., 0., 1.],\n",
       "       [0., 0., 1.],\n",
       "       [0., 0., 1.],\n",
       "       [0., 0., 1.],\n",
       "       [0., 0., 1.],\n",
       "       [0., 0., 1.],\n",
       "       [0., 0., 1.]], dtype=float32)"
      ]
     },
     "execution_count": 11,
     "metadata": {},
     "output_type": "execute_result"
    }
   ],
   "source": [
    "y"
   ]
  },
  {
   "cell_type": "code",
   "execution_count": 12,
   "metadata": {},
   "outputs": [],
   "source": [
    "from sklearn.model_selection import train_test_split"
   ]
  },
  {
   "cell_type": "code",
   "execution_count": 13,
   "metadata": {},
   "outputs": [],
   "source": [
    "X_train, X_test, y_train, y_test = train_test_split(X, y, test_size = 0.33, random_state = 42)"
   ]
  },
  {
   "cell_type": "code",
   "execution_count": 14,
   "metadata": {},
   "outputs": [
    {
     "data": {
      "text/plain": [
       "array([[0., 1., 0.],\n",
       "       [1., 0., 0.],\n",
       "       [0., 0., 1.],\n",
       "       [0., 1., 0.],\n",
       "       [0., 1., 0.],\n",
       "       [1., 0., 0.],\n",
       "       [0., 1., 0.],\n",
       "       [0., 0., 1.],\n",
       "       [0., 1., 0.],\n",
       "       [0., 1., 0.],\n",
       "       [0., 0., 1.],\n",
       "       [1., 0., 0.],\n",
       "       [1., 0., 0.],\n",
       "       [1., 0., 0.],\n",
       "       [1., 0., 0.],\n",
       "       [0., 1., 0.],\n",
       "       [0., 0., 1.],\n",
       "       [0., 1., 0.],\n",
       "       [0., 1., 0.],\n",
       "       [0., 0., 1.],\n",
       "       [1., 0., 0.],\n",
       "       [0., 0., 1.],\n",
       "       [1., 0., 0.],\n",
       "       [0., 0., 1.],\n",
       "       [0., 0., 1.],\n",
       "       [0., 0., 1.],\n",
       "       [0., 0., 1.],\n",
       "       [0., 0., 1.],\n",
       "       [1., 0., 0.],\n",
       "       [1., 0., 0.],\n",
       "       [1., 0., 0.],\n",
       "       [1., 0., 0.],\n",
       "       [0., 1., 0.],\n",
       "       [1., 0., 0.],\n",
       "       [1., 0., 0.],\n",
       "       [0., 0., 1.],\n",
       "       [0., 1., 0.],\n",
       "       [1., 0., 0.],\n",
       "       [1., 0., 0.],\n",
       "       [1., 0., 0.],\n",
       "       [0., 0., 1.],\n",
       "       [0., 1., 0.],\n",
       "       [0., 1., 0.],\n",
       "       [1., 0., 0.],\n",
       "       [1., 0., 0.],\n",
       "       [0., 1., 0.],\n",
       "       [0., 0., 1.],\n",
       "       [0., 0., 1.],\n",
       "       [0., 1., 0.],\n",
       "       [0., 0., 1.]], dtype=float32)"
      ]
     },
     "execution_count": 14,
     "metadata": {},
     "output_type": "execute_result"
    }
   ],
   "source": [
    "y_test"
   ]
  },
  {
   "cell_type": "code",
   "execution_count": 15,
   "metadata": {},
   "outputs": [],
   "source": [
    "from sklearn.preprocessing import MinMaxScaler"
   ]
  },
  {
   "cell_type": "code",
   "execution_count": 16,
   "metadata": {},
   "outputs": [],
   "source": [
    "scaler_object = MinMaxScaler()"
   ]
  },
  {
   "cell_type": "code",
   "execution_count": 20,
   "metadata": {},
   "outputs": [
    {
     "data": {
      "text/plain": [
       "MinMaxScaler(copy=True, feature_range=(0, 1))"
      ]
     },
     "execution_count": 20,
     "metadata": {},
     "output_type": "execute_result"
    }
   ],
   "source": [
    "scaler_object.fit(X_train)"
   ]
  },
  {
   "cell_type": "code",
   "execution_count": 21,
   "metadata": {},
   "outputs": [],
   "source": [
    "scaled_X_train = scaler_object.transform(X_train)"
   ]
  },
  {
   "cell_type": "code",
   "execution_count": 22,
   "metadata": {},
   "outputs": [],
   "source": [
    "scaled_X_test = scaler_object.transform(X_test)"
   ]
  },
  {
   "cell_type": "code",
   "execution_count": 23,
   "metadata": {},
   "outputs": [
    {
     "data": {
      "text/plain": [
       "array([[0.41176471, 0.40909091, 0.55357143, 0.5       ],\n",
       "       [0.97058824, 0.45454545, 0.98214286, 0.83333333],\n",
       "       [0.38235294, 0.45454545, 0.60714286, 0.58333333],\n",
       "       [0.23529412, 0.68181818, 0.05357143, 0.04166667],\n",
       "       [1.        , 0.36363636, 1.        , 0.79166667],\n",
       "       [0.44117647, 0.31818182, 0.53571429, 0.375     ],\n",
       "       [0.26470588, 0.63636364, 0.05357143, 0.04166667],\n",
       "       [0.20588235, 0.68181818, 0.03571429, 0.08333333],\n",
       "       [0.23529412, 0.81818182, 0.14285714, 0.125     ],\n",
       "       [0.20588235, 0.        , 0.42857143, 0.375     ],\n",
       "       [0.58823529, 0.31818182, 0.67857143, 0.70833333],\n",
       "       [0.14705882, 0.63636364, 0.14285714, 0.04166667],\n",
       "       [0.20588235, 0.45454545, 0.08928571, 0.04166667],\n",
       "       [0.23529412, 0.59090909, 0.10714286, 0.16666667],\n",
       "       [0.38235294, 0.31818182, 0.55357143, 0.5       ],\n",
       "       [0.23529412, 0.63636364, 0.07142857, 0.04166667],\n",
       "       [0.41176471, 0.45454545, 0.55357143, 0.45833333],\n",
       "       [1.        , 0.81818182, 1.        , 0.875     ],\n",
       "       [0.08823529, 0.54545455, 0.05357143, 0.04166667],\n",
       "       [0.55882353, 0.40909091, 0.57142857, 0.5       ],\n",
       "       [0.41176471, 0.22727273, 0.69642857, 0.79166667],\n",
       "       [0.35294118, 1.        , 0.05357143, 0.04166667],\n",
       "       [0.5       , 0.45454545, 0.66071429, 0.70833333],\n",
       "       [0.44117647, 0.31818182, 0.71428571, 0.75      ],\n",
       "       [0.5       , 0.09090909, 0.51785714, 0.375     ],\n",
       "       [0.32352941, 0.45454545, 0.60714286, 0.58333333],\n",
       "       [0.55882353, 0.63636364, 0.76785714, 0.91666667],\n",
       "       [0.35294118, 0.13636364, 0.51785714, 0.5       ],\n",
       "       [0.32352941, 0.86363636, 0.10714286, 0.125     ],\n",
       "       [0.20588235, 0.13636364, 0.39285714, 0.375     ],\n",
       "       [0.61764706, 0.31818182, 0.75      , 0.75      ],\n",
       "       [0.20588235, 0.59090909, 0.05357143, 0.04166667],\n",
       "       [0.20588235, 0.54545455, 0.01785714, 0.04166667],\n",
       "       [0.35294118, 0.18181818, 0.48214286, 0.41666667],\n",
       "       [0.70588235, 0.45454545, 0.69642857, 0.66666667],\n",
       "       [0.17647059, 0.5       , 0.07142857, 0.04166667],\n",
       "       [0.44117647, 0.36363636, 0.71428571, 0.95833333],\n",
       "       [0.20588235, 0.63636364, 0.07142857, 0.04166667],\n",
       "       [0.20588235, 0.68181818, 0.08928571, 0.20833333],\n",
       "       [0.47058824, 0.54545455, 0.66071429, 0.70833333],\n",
       "       [0.23529412, 0.22727273, 0.33928571, 0.41666667],\n",
       "       [0.76470588, 0.54545455, 0.82142857, 0.91666667],\n",
       "       [0.5       , 0.31818182, 0.71428571, 0.625     ],\n",
       "       [0.52941176, 0.27272727, 0.80357143, 0.54166667],\n",
       "       [1.        , 0.45454545, 0.89285714, 0.91666667],\n",
       "       [0.35294118, 0.22727273, 0.51785714, 0.5       ],\n",
       "       [0.02941176, 0.40909091, 0.05357143, 0.04166667],\n",
       "       [0.        , 0.45454545, 0.        , 0.        ],\n",
       "       [0.5       , 0.09090909, 0.69642857, 0.58333333],\n",
       "       [0.85294118, 0.54545455, 0.875     , 0.70833333],\n",
       "       [0.08823529, 0.5       , 0.07142857, 0.04166667],\n",
       "       [0.23529412, 0.68181818, 0.05357143, 0.08333333],\n",
       "       [0.02941176, 0.45454545, 0.03571429, 0.04166667],\n",
       "       [0.58823529, 0.22727273, 0.67857143, 0.58333333],\n",
       "       [0.58823529, 0.63636364, 0.80357143, 0.95833333],\n",
       "       [0.08823529, 0.63636364, 0.05357143, 0.08333333],\n",
       "       [0.73529412, 0.45454545, 0.78571429, 0.83333333],\n",
       "       [0.58823529, 0.59090909, 0.875     , 1.        ],\n",
       "       [0.11764706, 0.54545455, 0.03571429, 0.04166667],\n",
       "       [0.52941176, 0.40909091, 0.64285714, 0.54166667],\n",
       "       [0.64705882, 0.36363636, 0.625     , 0.58333333],\n",
       "       [0.55882353, 0.36363636, 0.66071429, 0.70833333],\n",
       "       [0.79411765, 0.54545455, 0.64285714, 0.54166667],\n",
       "       [0.61764706, 0.54545455, 0.75      , 0.91666667],\n",
       "       [0.23529412, 0.81818182, 0.08928571, 0.04166667],\n",
       "       [0.76470588, 0.5       , 0.76785714, 0.83333333],\n",
       "       [0.47058824, 0.45454545, 0.55357143, 0.58333333],\n",
       "       [0.64705882, 0.45454545, 0.73214286, 0.79166667],\n",
       "       [0.41176471, 0.27272727, 0.42857143, 0.375     ],\n",
       "       [0.26470588, 0.31818182, 0.5       , 0.54166667],\n",
       "       [0.52941176, 0.45454545, 0.625     , 0.54166667],\n",
       "       [0.05882353, 0.13636364, 0.03571429, 0.08333333],\n",
       "       [0.67647059, 0.40909091, 0.625     , 0.5       ],\n",
       "       [0.35294118, 0.27272727, 0.58928571, 0.45833333],\n",
       "       [0.29411765, 0.77272727, 0.07142857, 0.04166667],\n",
       "       [0.38235294, 0.45454545, 0.53571429, 0.5       ],\n",
       "       [0.88235294, 0.40909091, 0.92857143, 0.70833333],\n",
       "       [0.70588235, 0.59090909, 0.82142857, 0.83333333],\n",
       "       [0.23529412, 0.77272727, 0.07142857, 0.125     ],\n",
       "       [0.17647059, 0.18181818, 0.39285714, 0.375     ],\n",
       "       [0.70588235, 0.59090909, 0.82142857, 1.        ],\n",
       "       [0.85294118, 0.45454545, 0.83928571, 0.625     ],\n",
       "       [0.17647059, 0.72727273, 0.05357143, 0.        ],\n",
       "       [0.70588235, 0.5       , 0.80357143, 0.95833333],\n",
       "       [0.17647059, 0.45454545, 0.05357143, 0.04166667],\n",
       "       [0.76470588, 0.5       , 0.67857143, 0.58333333],\n",
       "       [0.91176471, 0.36363636, 0.89285714, 0.75      ],\n",
       "       [0.58823529, 0.40909091, 0.80357143, 0.70833333],\n",
       "       [0.41176471, 0.36363636, 0.53571429, 0.5       ],\n",
       "       [0.64705882, 0.45454545, 0.78571429, 0.70833333],\n",
       "       [0.58823529, 0.13636364, 0.58928571, 0.5       ],\n",
       "       [0.61764706, 0.40909091, 0.57142857, 0.5       ],\n",
       "       [0.38235294, 0.36363636, 0.67857143, 0.79166667],\n",
       "       [0.47058824, 0.45454545, 0.71428571, 0.70833333],\n",
       "       [0.32352941, 0.63636364, 0.10714286, 0.04166667],\n",
       "       [0.52941176, 0.36363636, 0.51785714, 0.5       ],\n",
       "       [0.17647059, 0.22727273, 0.60714286, 0.66666667],\n",
       "       [0.44117647, 0.90909091, 0.01785714, 0.04166667],\n",
       "       [0.44117647, 0.27272727, 0.51785714, 0.45833333],\n",
       "       [0.82352941, 0.45454545, 0.85714286, 0.83333333]])"
      ]
     },
     "execution_count": 23,
     "metadata": {},
     "output_type": "execute_result"
    }
   ],
   "source": [
    "scaled_X_train"
   ]
  },
  {
   "cell_type": "code",
   "execution_count": 26,
   "metadata": {},
   "outputs": [],
   "source": [
    "from keras.models import Sequential\n",
    "from keras.layers import Dense"
   ]
  },
  {
   "cell_type": "code",
   "execution_count": 29,
   "metadata": {},
   "outputs": [],
   "source": [
    "model = Sequential()\n",
    "model.add(Dense(8, input_dim=4, activation='relu'))\n",
    "model.add(Dense(8, input_dim=4, activation='relu'))\n",
    "model.add(Dense(3, activation='softmax'))\n",
    "model.compile(loss='categorical_crossentropy', optimizer='adam', metrics=['accuracy'])"
   ]
  },
  {
   "cell_type": "code",
   "execution_count": 30,
   "metadata": {},
   "outputs": [
    {
     "name": "stdout",
     "output_type": "stream",
     "text": [
      "_________________________________________________________________\n",
      "Layer (type)                 Output Shape              Param #   \n",
      "=================================================================\n",
      "dense_2 (Dense)              (None, 8)                 40        \n",
      "_________________________________________________________________\n",
      "dense_3 (Dense)              (None, 8)                 72        \n",
      "_________________________________________________________________\n",
      "dense_4 (Dense)              (None, 3)                 27        \n",
      "=================================================================\n",
      "Total params: 139\n",
      "Trainable params: 139\n",
      "Non-trainable params: 0\n",
      "_________________________________________________________________\n"
     ]
    }
   ],
   "source": [
    "model.summary()"
   ]
  },
  {
   "cell_type": "code",
   "execution_count": 33,
   "metadata": {},
   "outputs": [
    {
     "name": "stdout",
     "output_type": "stream",
     "text": [
      "Epoch 1/150\n",
      " - 0s - loss: 1.1314 - acc: 0.3600\n",
      "Epoch 2/150\n",
      " - 0s - loss: 1.1251 - acc: 0.4100\n",
      "Epoch 3/150\n",
      " - 0s - loss: 1.1193 - acc: 0.4100\n",
      "Epoch 4/150\n",
      " - 0s - loss: 1.1137 - acc: 0.4600\n",
      "Epoch 5/150\n",
      " - 0s - loss: 1.1084 - acc: 0.5100\n",
      "Epoch 6/150\n",
      " - 0s - loss: 1.1032 - acc: 0.5600\n",
      "Epoch 7/150\n",
      " - 0s - loss: 1.0988 - acc: 0.6100\n",
      "Epoch 8/150\n",
      " - 0s - loss: 1.0940 - acc: 0.6300\n",
      "Epoch 9/150\n",
      " - 0s - loss: 1.0902 - acc: 0.6500\n",
      "Epoch 10/150\n",
      " - 0s - loss: 1.0867 - acc: 0.6500\n",
      "Epoch 11/150\n",
      " - 0s - loss: 1.0831 - acc: 0.6400\n",
      "Epoch 12/150\n",
      " - 0s - loss: 1.0795 - acc: 0.6400\n",
      "Epoch 13/150\n",
      " - 0s - loss: 1.0761 - acc: 0.6400\n",
      "Epoch 14/150\n",
      " - 0s - loss: 1.0727 - acc: 0.6400\n",
      "Epoch 15/150\n",
      " - 0s - loss: 1.0694 - acc: 0.6200\n",
      "Epoch 16/150\n",
      " - 0s - loss: 1.0656 - acc: 0.5000\n",
      "Epoch 17/150\n",
      " - 0s - loss: 1.0620 - acc: 0.4100\n",
      "Epoch 18/150\n",
      " - 0s - loss: 1.0585 - acc: 0.5000\n",
      "Epoch 19/150\n",
      " - 0s - loss: 1.0547 - acc: 0.5400\n",
      "Epoch 20/150\n",
      " - 0s - loss: 1.0511 - acc: 0.6000\n",
      "Epoch 21/150\n",
      " - 0s - loss: 1.0471 - acc: 0.6200\n",
      "Epoch 22/150\n",
      " - 0s - loss: 1.0431 - acc: 0.6200\n",
      "Epoch 23/150\n",
      " - 0s - loss: 1.0393 - acc: 0.6100\n",
      "Epoch 24/150\n",
      " - 0s - loss: 1.0353 - acc: 0.6000\n",
      "Epoch 25/150\n",
      " - 0s - loss: 1.0310 - acc: 0.6000\n",
      "Epoch 26/150\n",
      " - 0s - loss: 1.0266 - acc: 0.6000\n",
      "Epoch 27/150\n",
      " - 0s - loss: 1.0220 - acc: 0.6000\n",
      "Epoch 28/150\n",
      " - 0s - loss: 1.0174 - acc: 0.6100\n",
      "Epoch 29/150\n",
      " - 0s - loss: 1.0125 - acc: 0.6200\n",
      "Epoch 30/150\n",
      " - 0s - loss: 1.0075 - acc: 0.6400\n",
      "Epoch 31/150\n",
      " - 0s - loss: 1.0022 - acc: 0.6400\n",
      "Epoch 32/150\n",
      " - 0s - loss: 0.9970 - acc: 0.6400\n",
      "Epoch 33/150\n",
      " - 0s - loss: 0.9917 - acc: 0.6400\n",
      "Epoch 34/150\n",
      " - 0s - loss: 0.9859 - acc: 0.6400\n",
      "Epoch 35/150\n",
      " - 0s - loss: 0.9798 - acc: 0.6400\n",
      "Epoch 36/150\n",
      " - 0s - loss: 0.9737 - acc: 0.6400\n",
      "Epoch 37/150\n",
      " - 0s - loss: 0.9677 - acc: 0.6400\n",
      "Epoch 38/150\n",
      " - 0s - loss: 0.9610 - acc: 0.6400\n",
      "Epoch 39/150\n",
      " - 0s - loss: 0.9543 - acc: 0.6400\n",
      "Epoch 40/150\n",
      " - 0s - loss: 0.9470 - acc: 0.6400\n",
      "Epoch 41/150\n",
      " - 0s - loss: 0.9398 - acc: 0.6400\n",
      "Epoch 42/150\n",
      " - 0s - loss: 0.9321 - acc: 0.6400\n",
      "Epoch 43/150\n",
      " - 0s - loss: 0.9246 - acc: 0.6400\n",
      "Epoch 44/150\n",
      " - 0s - loss: 0.9173 - acc: 0.6400\n",
      "Epoch 45/150\n",
      " - 0s - loss: 0.9088 - acc: 0.6400\n",
      "Epoch 46/150\n",
      " - 0s - loss: 0.9007 - acc: 0.6400\n",
      "Epoch 47/150\n",
      " - 0s - loss: 0.8928 - acc: 0.6400\n",
      "Epoch 48/150\n",
      " - 0s - loss: 0.8856 - acc: 0.6400\n",
      "Epoch 49/150\n",
      " - 0s - loss: 0.8770 - acc: 0.6400\n",
      "Epoch 50/150\n",
      " - 0s - loss: 0.8680 - acc: 0.6400\n",
      "Epoch 51/150\n",
      " - 0s - loss: 0.8590 - acc: 0.6500\n",
      "Epoch 52/150\n",
      " - 0s - loss: 0.8491 - acc: 0.6500\n",
      "Epoch 53/150\n",
      " - 0s - loss: 0.8395 - acc: 0.6500\n",
      "Epoch 54/150\n",
      " - 0s - loss: 0.8297 - acc: 0.6500\n",
      "Epoch 55/150\n",
      " - 0s - loss: 0.8195 - acc: 0.6500\n",
      "Epoch 56/150\n",
      " - 0s - loss: 0.8090 - acc: 0.6500\n",
      "Epoch 57/150\n",
      " - 0s - loss: 0.7987 - acc: 0.6500\n",
      "Epoch 58/150\n",
      " - 0s - loss: 0.7885 - acc: 0.6500\n",
      "Epoch 59/150\n",
      " - 0s - loss: 0.7785 - acc: 0.6500\n",
      "Epoch 60/150\n",
      " - 0s - loss: 0.7685 - acc: 0.6500\n",
      "Epoch 61/150\n",
      " - 0s - loss: 0.7579 - acc: 0.6500\n",
      "Epoch 62/150\n",
      " - 0s - loss: 0.7473 - acc: 0.6500\n",
      "Epoch 63/150\n",
      " - 0s - loss: 0.7372 - acc: 0.6500\n",
      "Epoch 64/150\n",
      " - 0s - loss: 0.7278 - acc: 0.6500\n",
      "Epoch 65/150\n",
      " - 0s - loss: 0.7177 - acc: 0.6500\n",
      "Epoch 66/150\n",
      " - 0s - loss: 0.7081 - acc: 0.6500\n",
      "Epoch 67/150\n",
      " - 0s - loss: 0.6989 - acc: 0.6500\n",
      "Epoch 68/150\n",
      " - 0s - loss: 0.6883 - acc: 0.6500\n",
      "Epoch 69/150\n",
      " - 0s - loss: 0.6788 - acc: 0.6500\n",
      "Epoch 70/150\n",
      " - 0s - loss: 0.6688 - acc: 0.6500\n",
      "Epoch 71/150\n",
      " - 0s - loss: 0.6602 - acc: 0.6500\n",
      "Epoch 72/150\n",
      " - 0s - loss: 0.6512 - acc: 0.6500\n",
      "Epoch 73/150\n",
      " - 0s - loss: 0.6424 - acc: 0.6500\n",
      "Epoch 74/150\n",
      " - 0s - loss: 0.6336 - acc: 0.6500\n",
      "Epoch 75/150\n",
      " - 0s - loss: 0.6255 - acc: 0.6500\n",
      "Epoch 76/150\n",
      " - 0s - loss: 0.6175 - acc: 0.6500\n",
      "Epoch 77/150\n",
      " - 0s - loss: 0.6095 - acc: 0.6500\n",
      "Epoch 78/150\n",
      " - 0s - loss: 0.6020 - acc: 0.6500\n",
      "Epoch 79/150\n",
      " - 0s - loss: 0.5948 - acc: 0.6500\n",
      "Epoch 80/150\n",
      " - 0s - loss: 0.5879 - acc: 0.6500\n",
      "Epoch 81/150\n",
      " - 0s - loss: 0.5809 - acc: 0.6500\n",
      "Epoch 82/150\n",
      " - 0s - loss: 0.5740 - acc: 0.6600\n",
      "Epoch 83/150\n",
      " - 0s - loss: 0.5674 - acc: 0.7000\n",
      "Epoch 84/150\n",
      " - 0s - loss: 0.5604 - acc: 0.6900\n",
      "Epoch 85/150\n",
      " - 0s - loss: 0.5547 - acc: 0.6600\n",
      "Epoch 86/150\n",
      " - 0s - loss: 0.5490 - acc: 0.6500\n",
      "Epoch 87/150\n",
      " - 0s - loss: 0.5437 - acc: 0.6500\n",
      "Epoch 88/150\n",
      " - 0s - loss: 0.5381 - acc: 0.6500\n",
      "Epoch 89/150\n",
      " - 0s - loss: 0.5334 - acc: 0.6500\n",
      "Epoch 90/150\n",
      " - 0s - loss: 0.5281 - acc: 0.6500\n",
      "Epoch 91/150\n",
      " - 0s - loss: 0.5228 - acc: 0.6800\n",
      "Epoch 92/150\n",
      " - 0s - loss: 0.5172 - acc: 0.7100\n",
      "Epoch 93/150\n",
      " - 0s - loss: 0.5129 - acc: 0.7300\n",
      "Epoch 94/150\n",
      " - 0s - loss: 0.5080 - acc: 0.7400\n",
      "Epoch 95/150\n",
      " - 0s - loss: 0.5035 - acc: 0.7400\n",
      "Epoch 96/150\n",
      " - 0s - loss: 0.4987 - acc: 0.7500\n",
      "Epoch 97/150\n",
      " - 0s - loss: 0.4946 - acc: 0.7400\n",
      "Epoch 98/150\n",
      " - 0s - loss: 0.4905 - acc: 0.7400\n",
      "Epoch 99/150\n",
      " - 0s - loss: 0.4867 - acc: 0.7400\n",
      "Epoch 100/150\n",
      " - 0s - loss: 0.4829 - acc: 0.7400\n",
      "Epoch 101/150\n",
      " - 0s - loss: 0.4794 - acc: 0.7300\n",
      "Epoch 102/150\n",
      " - 0s - loss: 0.4765 - acc: 0.7300\n",
      "Epoch 103/150\n",
      " - 0s - loss: 0.4729 - acc: 0.7300\n",
      "Epoch 104/150\n",
      " - 0s - loss: 0.4699 - acc: 0.7300\n",
      "Epoch 105/150\n",
      " - 0s - loss: 0.4665 - acc: 0.7300\n",
      "Epoch 106/150\n",
      " - 0s - loss: 0.4626 - acc: 0.7300\n",
      "Epoch 107/150\n",
      " - 0s - loss: 0.4588 - acc: 0.7400\n",
      "Epoch 108/150\n",
      " - 0s - loss: 0.4549 - acc: 0.7500\n",
      "Epoch 109/150\n",
      " - 0s - loss: 0.4510 - acc: 0.8300\n",
      "Epoch 110/150\n",
      " - 0s - loss: 0.4476 - acc: 0.8300\n",
      "Epoch 111/150\n",
      " - 0s - loss: 0.4444 - acc: 0.8300\n",
      "Epoch 112/150\n",
      " - 0s - loss: 0.4410 - acc: 0.8300\n",
      "Epoch 113/150\n",
      " - 0s - loss: 0.4382 - acc: 0.8300\n",
      "Epoch 114/150\n",
      " - 0s - loss: 0.4355 - acc: 0.8200\n",
      "Epoch 115/150\n",
      " - 0s - loss: 0.4325 - acc: 0.8100\n",
      "Epoch 116/150\n",
      " - 0s - loss: 0.4296 - acc: 0.8100\n",
      "Epoch 117/150\n",
      " - 0s - loss: 0.4265 - acc: 0.8300\n",
      "Epoch 118/150\n",
      " - 0s - loss: 0.4236 - acc: 0.8300\n",
      "Epoch 119/150\n",
      " - 0s - loss: 0.4206 - acc: 0.8600\n",
      "Epoch 120/150\n",
      " - 0s - loss: 0.4177 - acc: 0.8800\n",
      "Epoch 121/150\n",
      " - 0s - loss: 0.4154 - acc: 0.8600\n",
      "Epoch 122/150\n",
      " - 0s - loss: 0.4128 - acc: 0.8400\n",
      "Epoch 123/150\n",
      " - 0s - loss: 0.4101 - acc: 0.9000\n",
      "Epoch 124/150\n",
      " - 0s - loss: 0.4059 - acc: 0.9100\n",
      "Epoch 125/150\n",
      " - 0s - loss: 0.4031 - acc: 0.9200\n",
      "Epoch 126/150\n",
      " - 0s - loss: 0.4001 - acc: 0.9200\n",
      "Epoch 127/150\n",
      " - 0s - loss: 0.3978 - acc: 0.9100\n",
      "Epoch 128/150\n",
      " - 0s - loss: 0.3947 - acc: 0.9100\n",
      "Epoch 129/150\n",
      " - 0s - loss: 0.3914 - acc: 0.9200\n",
      "Epoch 130/150\n",
      " - 0s - loss: 0.3890 - acc: 0.9200\n",
      "Epoch 131/150\n",
      " - 0s - loss: 0.3864 - acc: 0.9400\n",
      "Epoch 132/150\n",
      " - 0s - loss: 0.3830 - acc: 0.9400\n",
      "Epoch 133/150\n",
      " - 0s - loss: 0.3794 - acc: 0.9400\n",
      "Epoch 134/150\n",
      " - 0s - loss: 0.3774 - acc: 0.9200\n",
      "Epoch 135/150\n",
      " - 0s - loss: 0.3749 - acc: 0.9200\n",
      "Epoch 136/150\n",
      " - 0s - loss: 0.3726 - acc: 0.9200\n",
      "Epoch 137/150\n",
      " - 0s - loss: 0.3692 - acc: 0.9200\n",
      "Epoch 138/150\n",
      " - 0s - loss: 0.3661 - acc: 0.9400\n",
      "Epoch 139/150\n",
      " - 0s - loss: 0.3629 - acc: 0.9600\n",
      "Epoch 140/150\n",
      " - 0s - loss: 0.3615 - acc: 0.9600\n",
      "Epoch 141/150\n",
      " - 0s - loss: 0.3605 - acc: 0.9600\n",
      "Epoch 142/150\n",
      " - 0s - loss: 0.3569 - acc: 0.9700\n",
      "Epoch 143/150\n",
      " - 0s - loss: 0.3523 - acc: 0.9600\n",
      "Epoch 144/150\n",
      " - 0s - loss: 0.3501 - acc: 0.9400\n",
      "Epoch 145/150\n",
      " - 0s - loss: 0.3476 - acc: 0.9400\n",
      "Epoch 146/150\n",
      " - 0s - loss: 0.3441 - acc: 0.9400\n",
      "Epoch 147/150\n",
      " - 0s - loss: 0.3412 - acc: 0.9400\n",
      "Epoch 148/150\n",
      " - 0s - loss: 0.3381 - acc: 0.9400\n",
      "Epoch 149/150\n",
      " - 0s - loss: 0.3381 - acc: 0.9600\n",
      "Epoch 150/150\n",
      " - 0s - loss: 0.3343 - acc: 0.9600\n"
     ]
    },
    {
     "data": {
      "text/plain": [
       "<keras.callbacks.History at 0x1a386a3908>"
      ]
     },
     "execution_count": 33,
     "metadata": {},
     "output_type": "execute_result"
    }
   ],
   "source": [
    "model.fit(scaled_X_train, y_train, epochs=150, verbose=2)"
   ]
  },
  {
   "cell_type": "code",
   "execution_count": 34,
   "metadata": {},
   "outputs": [],
   "source": [
    "predictions = model.predict_classes(scaled_X_test)"
   ]
  },
  {
   "cell_type": "code",
   "execution_count": 35,
   "metadata": {},
   "outputs": [
    {
     "data": {
      "text/plain": [
       "array([1, 0, 2, 1, 1, 0, 1, 2, 1, 1, 2, 0, 0, 0, 0, 1, 2, 1, 1, 2, 0, 2,\n",
       "       0, 2, 2, 2, 2, 2, 0, 0, 0, 0, 1, 0, 0, 2, 1, 0, 0, 0, 2, 1, 1, 0,\n",
       "       0, 1, 2, 2, 1, 2])"
      ]
     },
     "execution_count": 35,
     "metadata": {},
     "output_type": "execute_result"
    }
   ],
   "source": [
    "y_test.argmax(axis=1)"
   ]
  },
  {
   "cell_type": "code",
   "execution_count": 36,
   "metadata": {},
   "outputs": [],
   "source": [
    "from sklearn.metrics import confusion_matrix, classification_report, accuracy_score"
   ]
  },
  {
   "cell_type": "code",
   "execution_count": 37,
   "metadata": {},
   "outputs": [
    {
     "data": {
      "text/plain": [
       "array([[19,  0,  0],\n",
       "       [ 0, 14,  1],\n",
       "       [ 0,  0, 16]])"
      ]
     },
     "execution_count": 37,
     "metadata": {},
     "output_type": "execute_result"
    }
   ],
   "source": [
    "confusion_matrix(y_test.argmax(axis=1), predictions)"
   ]
  },
  {
   "cell_type": "code",
   "execution_count": 40,
   "metadata": {},
   "outputs": [
    {
     "name": "stdout",
     "output_type": "stream",
     "text": [
      "              precision    recall  f1-score   support\n",
      "\n",
      "           0       1.00      1.00      1.00        19\n",
      "           1       1.00      0.93      0.97        15\n",
      "           2       0.94      1.00      0.97        16\n",
      "\n",
      "   micro avg       0.98      0.98      0.98        50\n",
      "   macro avg       0.98      0.98      0.98        50\n",
      "weighted avg       0.98      0.98      0.98        50\n",
      "\n"
     ]
    }
   ],
   "source": [
    "print(classification_report(y_test.argmax(axis=1), predictions))"
   ]
  },
  {
   "cell_type": "code",
   "execution_count": 39,
   "metadata": {},
   "outputs": [
    {
     "data": {
      "text/plain": [
       "0.98"
      ]
     },
     "execution_count": 39,
     "metadata": {},
     "output_type": "execute_result"
    }
   ],
   "source": [
    "accuracy_score(y_test.argmax(axis=1), predictions)"
   ]
  },
  {
   "cell_type": "code",
   "execution_count": 41,
   "metadata": {},
   "outputs": [],
   "source": [
    "model.save('myfirstmodel.h5')"
   ]
  },
  {
   "cell_type": "code",
   "execution_count": 42,
   "metadata": {},
   "outputs": [],
   "source": [
    "from keras.models import load_model"
   ]
  },
  {
   "cell_type": "code",
   "execution_count": 43,
   "metadata": {},
   "outputs": [],
   "source": [
    "new_model = load_model('myfirstmodel.h5')"
   ]
  },
  {
   "cell_type": "code",
   "execution_count": null,
   "metadata": {},
   "outputs": [],
   "source": []
  }
 ],
 "metadata": {
  "kernelspec": {
   "display_name": "Python 3",
   "language": "python",
   "name": "python3"
  },
  "language_info": {
   "codemirror_mode": {
    "name": "ipython",
    "version": 3
   },
   "file_extension": ".py",
   "mimetype": "text/x-python",
   "name": "python",
   "nbconvert_exporter": "python",
   "pygments_lexer": "ipython3",
   "version": "3.7.3"
  }
 },
 "nbformat": 4,
 "nbformat_minor": 2
}
