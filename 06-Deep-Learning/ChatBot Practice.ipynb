{
 "cells": [
  {
   "cell_type": "code",
   "execution_count": 1,
   "metadata": {},
   "outputs": [],
   "source": [
    "import pickle\n",
    "import numpy as np"
   ]
  },
  {
   "cell_type": "code",
   "execution_count": 2,
   "metadata": {},
   "outputs": [],
   "source": [
    "with open('train_qa.txt', 'rb') as f:\n",
    "    train_data = pickle.load(f)"
   ]
  },
  {
   "cell_type": "code",
   "execution_count": 3,
   "metadata": {},
   "outputs": [],
   "source": [
    "with open('test_qa.txt', 'rb') as f:\n",
    "    test_data = pickle.load(f)"
   ]
  },
  {
   "cell_type": "code",
   "execution_count": 4,
   "metadata": {},
   "outputs": [
    {
     "data": {
      "text/plain": [
       "list"
      ]
     },
     "execution_count": 4,
     "metadata": {},
     "output_type": "execute_result"
    }
   ],
   "source": [
    "type(train_data)"
   ]
  },
  {
   "cell_type": "code",
   "execution_count": 5,
   "metadata": {},
   "outputs": [
    {
     "data": {
      "text/plain": [
       "(['Mary',\n",
       "  'moved',\n",
       "  'to',\n",
       "  'the',\n",
       "  'bathroom',\n",
       "  '.',\n",
       "  'Sandra',\n",
       "  'journeyed',\n",
       "  'to',\n",
       "  'the',\n",
       "  'bedroom',\n",
       "  '.'],\n",
       " ['Is', 'Sandra', 'in', 'the', 'hallway', '?'],\n",
       " 'no')"
      ]
     },
     "execution_count": 5,
     "metadata": {},
     "output_type": "execute_result"
    }
   ],
   "source": [
    "train_data[0]"
   ]
  },
  {
   "cell_type": "code",
   "execution_count": 6,
   "metadata": {},
   "outputs": [
    {
     "data": {
      "text/plain": [
       "10000"
      ]
     },
     "execution_count": 6,
     "metadata": {},
     "output_type": "execute_result"
    }
   ],
   "source": [
    "len(train_data)"
   ]
  },
  {
   "cell_type": "code",
   "execution_count": 7,
   "metadata": {},
   "outputs": [],
   "source": [
    "all_data = train_data + test_data"
   ]
  },
  {
   "cell_type": "code",
   "execution_count": 8,
   "metadata": {},
   "outputs": [
    {
     "data": {
      "text/plain": [
       "11000"
      ]
     },
     "execution_count": 8,
     "metadata": {},
     "output_type": "execute_result"
    }
   ],
   "source": [
    "len(all_data)"
   ]
  },
  {
   "cell_type": "code",
   "execution_count": 9,
   "metadata": {},
   "outputs": [],
   "source": [
    "vocab = set()\n",
    "\n",
    "for story, question, answer in all_data:\n",
    "    vocab = vocab.union(set(story))\n",
    "    vocab = vocab.union(set(question))"
   ]
  },
  {
   "cell_type": "code",
   "execution_count": 10,
   "metadata": {},
   "outputs": [],
   "source": [
    "vocab.add('no')\n",
    "vocab.add('yes')"
   ]
  },
  {
   "cell_type": "code",
   "execution_count": 11,
   "metadata": {},
   "outputs": [
    {
     "data": {
      "text/plain": [
       "{'.',\n",
       " '?',\n",
       " 'Daniel',\n",
       " 'Is',\n",
       " 'John',\n",
       " 'Mary',\n",
       " 'Sandra',\n",
       " 'apple',\n",
       " 'back',\n",
       " 'bathroom',\n",
       " 'bedroom',\n",
       " 'discarded',\n",
       " 'down',\n",
       " 'dropped',\n",
       " 'football',\n",
       " 'garden',\n",
       " 'got',\n",
       " 'grabbed',\n",
       " 'hallway',\n",
       " 'in',\n",
       " 'journeyed',\n",
       " 'kitchen',\n",
       " 'left',\n",
       " 'milk',\n",
       " 'moved',\n",
       " 'no',\n",
       " 'office',\n",
       " 'picked',\n",
       " 'put',\n",
       " 'the',\n",
       " 'there',\n",
       " 'to',\n",
       " 'took',\n",
       " 'travelled',\n",
       " 'up',\n",
       " 'went',\n",
       " 'yes'}"
      ]
     },
     "execution_count": 11,
     "metadata": {},
     "output_type": "execute_result"
    }
   ],
   "source": [
    "vocab"
   ]
  },
  {
   "cell_type": "code",
   "execution_count": 12,
   "metadata": {},
   "outputs": [],
   "source": [
    "vocab_len = len(vocab) + 1"
   ]
  },
  {
   "cell_type": "code",
   "execution_count": 13,
   "metadata": {},
   "outputs": [],
   "source": [
    "all_story_lens = [len(data[0]) for data in all_data]\n",
    "max_story_lens = max(all_story_lens)"
   ]
  },
  {
   "cell_type": "code",
   "execution_count": 46,
   "metadata": {},
   "outputs": [
    {
     "data": {
      "text/plain": [
       "156"
      ]
     },
     "execution_count": 46,
     "metadata": {},
     "output_type": "execute_result"
    }
   ],
   "source": [
    "max_story_lens"
   ]
  },
  {
   "cell_type": "code",
   "execution_count": 14,
   "metadata": {},
   "outputs": [],
   "source": [
    "all_question_lens = [len(data[1]) for data in all_data]\n",
    "max_question_lens = max(all_question_lens)"
   ]
  },
  {
   "cell_type": "code",
   "execution_count": 15,
   "metadata": {},
   "outputs": [
    {
     "data": {
      "text/plain": [
       "6"
      ]
     },
     "execution_count": 15,
     "metadata": {},
     "output_type": "execute_result"
    }
   ],
   "source": [
    "max_question_lens"
   ]
  },
  {
   "cell_type": "code",
   "execution_count": 16,
   "metadata": {},
   "outputs": [
    {
     "name": "stderr",
     "output_type": "stream",
     "text": [
      "Using TensorFlow backend.\n"
     ]
    }
   ],
   "source": [
    "from keras.preprocessing.sequence import pad_sequences\n",
    "from keras.preprocessing.text import Tokenizer"
   ]
  },
  {
   "cell_type": "code",
   "execution_count": 17,
   "metadata": {},
   "outputs": [],
   "source": [
    "tokenizer = Tokenizer(filters = [])\n",
    "tokenizer.fit_on_texts(vocab)"
   ]
  },
  {
   "cell_type": "code",
   "execution_count": 18,
   "metadata": {},
   "outputs": [
    {
     "data": {
      "text/plain": [
       "{'went': 1,\n",
       " 'daniel': 2,\n",
       " 'to': 3,\n",
       " 'up': 4,\n",
       " 'discarded': 5,\n",
       " 'john': 6,\n",
       " 'back': 7,\n",
       " 'office': 8,\n",
       " 'got': 9,\n",
       " 'picked': 10,\n",
       " 'football': 11,\n",
       " 'mary': 12,\n",
       " 'grabbed': 13,\n",
       " 'apple': 14,\n",
       " '.': 15,\n",
       " 'yes': 16,\n",
       " 'kitchen': 17,\n",
       " 'there': 18,\n",
       " 'milk': 19,\n",
       " 'hallway': 20,\n",
       " 'garden': 21,\n",
       " 'is': 22,\n",
       " 'no': 23,\n",
       " 'took': 24,\n",
       " 'dropped': 25,\n",
       " '?': 26,\n",
       " 'bedroom': 27,\n",
       " 'travelled': 28,\n",
       " 'down': 29,\n",
       " 'moved': 30,\n",
       " 'put': 31,\n",
       " 'bathroom': 32,\n",
       " 'in': 33,\n",
       " 'sandra': 34,\n",
       " 'left': 35,\n",
       " 'the': 36,\n",
       " 'journeyed': 37}"
      ]
     },
     "execution_count": 18,
     "metadata": {},
     "output_type": "execute_result"
    }
   ],
   "source": [
    "tokenizer.word_index"
   ]
  },
  {
   "cell_type": "code",
   "execution_count": 19,
   "metadata": {},
   "outputs": [],
   "source": [
    "train_story_text = []\n",
    "train_question_text = []\n",
    "train_answers_text = []"
   ]
  },
  {
   "cell_type": "code",
   "execution_count": 20,
   "metadata": {},
   "outputs": [],
   "source": [
    "for story, question, answer in train_data:\n",
    "    train_story_text.append(story)\n",
    "    train_question_text.append(question)\n",
    "    train_answers_text.append(answer)"
   ]
  },
  {
   "cell_type": "code",
   "execution_count": 21,
   "metadata": {},
   "outputs": [],
   "source": [
    "train_story_seq = tokenizer.texts_to_sequences(train_story_text)"
   ]
  },
  {
   "cell_type": "code",
   "execution_count": 22,
   "metadata": {},
   "outputs": [],
   "source": [
    "#train_story_seq"
   ]
  },
  {
   "cell_type": "code",
   "execution_count": 23,
   "metadata": {},
   "outputs": [],
   "source": [
    "def vectorize_stories(data, word_index = tokenizer.word_index, max_story_lens = max_story_lens, max_question_lens = max_question_lens):\n",
    "    # STORIES - X\n",
    "    X = []\n",
    "    # QUESTIONS - Xq\n",
    "    Xq = []\n",
    "    # Y CORRECT ANSWER (yes/no)\n",
    "    Y = []\n",
    "    \n",
    "    for story, query, answer in data:\n",
    "        x = [word_index[word.lower()] for word in story]\n",
    "        xq = [word_index[word.lower()] for word in query]\n",
    "        y = np.zeros(len(word_index) + 1)\n",
    "        y[word_index[answer]] = 1\n",
    "        \n",
    "        X.append(x)\n",
    "        Xq.append(xq)\n",
    "        Y.append(y)\n",
    "        \n",
    "    return (pad_sequences(X, maxlen = max_story_lens), pad_sequences(Xq, maxlen = max_question_lens), np.array(Y))"
   ]
  },
  {
   "cell_type": "code",
   "execution_count": 24,
   "metadata": {},
   "outputs": [],
   "source": [
    "input_train, queries_train, answers_train = vectorize_stories(train_data)"
   ]
  },
  {
   "cell_type": "code",
   "execution_count": 25,
   "metadata": {},
   "outputs": [],
   "source": [
    "input_test, queries_test, answers_test = vectorize_stories(test_data)"
   ]
  },
  {
   "cell_type": "code",
   "execution_count": 26,
   "metadata": {},
   "outputs": [
    {
     "data": {
      "text/plain": [
       "array([[ 0,  0,  0, ..., 36, 27, 15],\n",
       "       [ 0,  0,  0, ..., 36, 21, 15],\n",
       "       [ 0,  0,  0, ..., 36, 21, 15],\n",
       "       ...,\n",
       "       [ 0,  0,  0, ..., 36, 14, 15],\n",
       "       [ 0,  0,  0, ..., 36, 21, 15],\n",
       "       [ 0,  0,  0, ..., 14, 18, 15]], dtype=int32)"
      ]
     },
     "execution_count": 26,
     "metadata": {},
     "output_type": "execute_result"
    }
   ],
   "source": [
    "input_test"
   ]
  },
  {
   "cell_type": "code",
   "execution_count": 27,
   "metadata": {},
   "outputs": [
    {
     "data": {
      "text/plain": [
       "array([[0., 0., 0., ..., 0., 0., 0.],\n",
       "       [0., 0., 0., ..., 0., 0., 0.],\n",
       "       [0., 0., 0., ..., 0., 0., 0.],\n",
       "       ...,\n",
       "       [0., 0., 0., ..., 0., 0., 0.],\n",
       "       [0., 0., 0., ..., 0., 0., 0.],\n",
       "       [0., 0., 0., ..., 0., 0., 0.]])"
      ]
     },
     "execution_count": 27,
     "metadata": {},
     "output_type": "execute_result"
    }
   ],
   "source": [
    "answers_test"
   ]
  },
  {
   "cell_type": "code",
   "execution_count": 28,
   "metadata": {},
   "outputs": [
    {
     "data": {
      "text/plain": [
       "array([  0.,   0.,   0.,   0.,   0.,   0.,   0.,   0.,   0.,   0.,   0.,\n",
       "         0.,   0.,   0.,   0.,   0., 497.,   0.,   0.,   0.,   0.,   0.,\n",
       "         0., 503.,   0.,   0.,   0.,   0.,   0.,   0.,   0.,   0.,   0.,\n",
       "         0.,   0.,   0.,   0.,   0.])"
      ]
     },
     "execution_count": 28,
     "metadata": {},
     "output_type": "execute_result"
    }
   ],
   "source": [
    "sum(answers_test)"
   ]
  },
  {
   "cell_type": "code",
   "execution_count": 29,
   "metadata": {},
   "outputs": [],
   "source": [
    "from keras.models import Sequential, Model\n",
    "from keras.layers.embeddings import Embedding\n",
    "from keras.layers import Input, Activation, Dense, Permute, Dropout, add, dot, concatenate, LSTM"
   ]
  },
  {
   "cell_type": "code",
   "execution_count": 30,
   "metadata": {},
   "outputs": [],
   "source": [
    "input_sequence = Input((max_story_lens,))\n",
    "question = Input((max_question_lens,))"
   ]
  },
  {
   "cell_type": "code",
   "execution_count": 31,
   "metadata": {},
   "outputs": [],
   "source": [
    "vocab_size = len(vocab) + 1"
   ]
  },
  {
   "cell_type": "code",
   "execution_count": 32,
   "metadata": {},
   "outputs": [],
   "source": [
    "# INPUT ENCODER M\n",
    "input_encoder_m = Sequential()\n",
    "input_encoder_m.add(Embedding(input_dim = vocab_size, output_dim = 64))\n",
    "input_encoder_m.add(Dropout(0.3))"
   ]
  },
  {
   "cell_type": "code",
   "execution_count": 33,
   "metadata": {},
   "outputs": [],
   "source": [
    "# INPUT ENCODER C\n",
    "input_encoder_c = Sequential()\n",
    "input_encoder_c.add(Embedding(input_dim = vocab_size, output_dim = max_question_lens))\n",
    "input_encoder_c.add(Dropout(0.3))"
   ]
  },
  {
   "cell_type": "code",
   "execution_count": 34,
   "metadata": {},
   "outputs": [],
   "source": [
    "# QUESTION ENCODER\n",
    "question_encoder = Sequential()\n",
    "question_encoder.add(Embedding(input_dim = vocab_size, output_dim = 64, input_length = max_question_lens))\n",
    "question_encoder.add(Dropout(0.3))"
   ]
  },
  {
   "cell_type": "code",
   "execution_count": 35,
   "metadata": {},
   "outputs": [],
   "source": [
    "# ENCODED\n",
    "input_encoded_m = input_encoder_m(input_sequence)\n",
    "input_encoded_c = input_encoder_c(input_sequence)\n",
    "question_encoded = question_encoder(question)"
   ]
  },
  {
   "cell_type": "code",
   "execution_count": 36,
   "metadata": {},
   "outputs": [],
   "source": [
    "match = dot([input_encoded_m, question_encoded], axes = (2, 2))\n",
    "match = Activation('softmax')(match)"
   ]
  },
  {
   "cell_type": "code",
   "execution_count": 37,
   "metadata": {},
   "outputs": [],
   "source": [
    "response = add([match, input_encoded_c])\n",
    "response = Permute((2, 1))(response)"
   ]
  },
  {
   "cell_type": "code",
   "execution_count": 38,
   "metadata": {},
   "outputs": [],
   "source": [
    "answer = concatenate([response, question_encoded])"
   ]
  },
  {
   "cell_type": "code",
   "execution_count": 39,
   "metadata": {},
   "outputs": [
    {
     "data": {
      "text/plain": [
       "<tf.Tensor 'concatenate_1/concat:0' shape=(?, 6, 220) dtype=float32>"
      ]
     },
     "execution_count": 39,
     "metadata": {},
     "output_type": "execute_result"
    }
   ],
   "source": [
    "answer"
   ]
  },
  {
   "cell_type": "code",
   "execution_count": 40,
   "metadata": {},
   "outputs": [],
   "source": [
    "answer = LSTM(32)(answer)"
   ]
  },
  {
   "cell_type": "code",
   "execution_count": 41,
   "metadata": {},
   "outputs": [],
   "source": [
    "answer = Dropout(0.5)(answer)\n",
    "answer = Dense(vocab_size)(answer)"
   ]
  },
  {
   "cell_type": "code",
   "execution_count": 42,
   "metadata": {},
   "outputs": [],
   "source": [
    "answer = Activation('softmax')(answer)"
   ]
  },
  {
   "cell_type": "code",
   "execution_count": 43,
   "metadata": {},
   "outputs": [],
   "source": [
    "model = Model([input_sequence, question], answer)"
   ]
  },
  {
   "cell_type": "code",
   "execution_count": 44,
   "metadata": {},
   "outputs": [],
   "source": [
    "model.compile(optimizer = 'rmsprop', loss = 'categorical_crossentropy', metrics = ['accuracy'])"
   ]
  },
  {
   "cell_type": "code",
   "execution_count": 45,
   "metadata": {},
   "outputs": [
    {
     "name": "stdout",
     "output_type": "stream",
     "text": [
      "__________________________________________________________________________________________________\n",
      "Layer (type)                    Output Shape         Param #     Connected to                     \n",
      "==================================================================================================\n",
      "input_1 (InputLayer)            (None, 156)          0                                            \n",
      "__________________________________________________________________________________________________\n",
      "input_2 (InputLayer)            (None, 6)            0                                            \n",
      "__________________________________________________________________________________________________\n",
      "sequential_1 (Sequential)       multiple             2432        input_1[0][0]                    \n",
      "__________________________________________________________________________________________________\n",
      "sequential_3 (Sequential)       (None, 6, 64)        2432        input_2[0][0]                    \n",
      "__________________________________________________________________________________________________\n",
      "dot_1 (Dot)                     (None, 156, 6)       0           sequential_1[1][0]               \n",
      "                                                                 sequential_3[1][0]               \n",
      "__________________________________________________________________________________________________\n",
      "activation_1 (Activation)       (None, 156, 6)       0           dot_1[0][0]                      \n",
      "__________________________________________________________________________________________________\n",
      "sequential_2 (Sequential)       multiple             228         input_1[0][0]                    \n",
      "__________________________________________________________________________________________________\n",
      "add_1 (Add)                     (None, 156, 6)       0           activation_1[0][0]               \n",
      "                                                                 sequential_2[1][0]               \n",
      "__________________________________________________________________________________________________\n",
      "permute_1 (Permute)             (None, 6, 156)       0           add_1[0][0]                      \n",
      "__________________________________________________________________________________________________\n",
      "concatenate_1 (Concatenate)     (None, 6, 220)       0           permute_1[0][0]                  \n",
      "                                                                 sequential_3[1][0]               \n",
      "__________________________________________________________________________________________________\n",
      "lstm_1 (LSTM)                   (None, 32)           32384       concatenate_1[0][0]              \n",
      "__________________________________________________________________________________________________\n",
      "dropout_4 (Dropout)             (None, 32)           0           lstm_1[0][0]                     \n",
      "__________________________________________________________________________________________________\n",
      "dense_1 (Dense)                 (None, 38)           1254        dropout_4[0][0]                  \n",
      "__________________________________________________________________________________________________\n",
      "activation_2 (Activation)       (None, 38)           0           dense_1[0][0]                    \n",
      "==================================================================================================\n",
      "Total params: 38,730\n",
      "Trainable params: 38,730\n",
      "Non-trainable params: 0\n",
      "__________________________________________________________________________________________________\n"
     ]
    }
   ],
   "source": [
    "model.summary()"
   ]
  },
  {
   "cell_type": "code",
   "execution_count": 48,
   "metadata": {},
   "outputs": [
    {
     "name": "stdout",
     "output_type": "stream",
     "text": [
      "Train on 10000 samples, validate on 1000 samples\n",
      "Epoch 1/100\n",
      "10000/10000 [==============================] - 12s 1ms/step - loss: 0.9661 - acc: 0.4916 - val_loss: 0.6944 - val_acc: 0.4860\n",
      "Epoch 2/100\n",
      "10000/10000 [==============================] - 10s 1ms/step - loss: 0.7043 - acc: 0.5056 - val_loss: 0.6979 - val_acc: 0.5030\n",
      "Epoch 3/100\n",
      "10000/10000 [==============================] - 10s 1ms/step - loss: 0.6959 - acc: 0.5038 - val_loss: 0.6935 - val_acc: 0.4970\n",
      "Epoch 4/100\n",
      "10000/10000 [==============================] - 11s 1ms/step - loss: 0.6945 - acc: 0.5089 - val_loss: 0.6932 - val_acc: 0.5030\n",
      "Epoch 5/100\n",
      "10000/10000 [==============================] - 11s 1ms/step - loss: 0.6948 - acc: 0.4965 - val_loss: 0.6933 - val_acc: 0.5030\n",
      "Epoch 6/100\n",
      "10000/10000 [==============================] - 11s 1ms/step - loss: 0.6950 - acc: 0.4933 - val_loss: 0.6937 - val_acc: 0.4970\n",
      "Epoch 7/100\n",
      "10000/10000 [==============================] - 11s 1ms/step - loss: 0.6947 - acc: 0.4958 - val_loss: 0.6935 - val_acc: 0.4970\n",
      "Epoch 8/100\n",
      "10000/10000 [==============================] - 10s 1ms/step - loss: 0.6953 - acc: 0.4965 - val_loss: 0.6936 - val_acc: 0.5030\n",
      "Epoch 9/100\n",
      "10000/10000 [==============================] - 10s 1ms/step - loss: 0.6942 - acc: 0.5058 - val_loss: 0.6933 - val_acc: 0.4970\n",
      "Epoch 10/100\n",
      "10000/10000 [==============================] - 10s 994us/step - loss: 0.6945 - acc: 0.5011 - val_loss: 0.6940 - val_acc: 0.4970\n",
      "Epoch 11/100\n",
      "10000/10000 [==============================] - 10s 996us/step - loss: 0.6943 - acc: 0.5034 - val_loss: 0.6932 - val_acc: 0.4970\n",
      "Epoch 12/100\n",
      "10000/10000 [==============================] - 10s 990us/step - loss: 0.6944 - acc: 0.5047 - val_loss: 0.6939 - val_acc: 0.5030\n",
      "Epoch 13/100\n",
      "10000/10000 [==============================] - 10s 989us/step - loss: 0.6945 - acc: 0.4987 - val_loss: 0.6932 - val_acc: 0.5030\n",
      "Epoch 14/100\n",
      "10000/10000 [==============================] - 10s 993us/step - loss: 0.6941 - acc: 0.5010 - val_loss: 0.6930 - val_acc: 0.5150\n",
      "Epoch 15/100\n",
      "10000/10000 [==============================] - 10s 994us/step - loss: 0.6931 - acc: 0.5123 - val_loss: 0.6913 - val_acc: 0.5410\n",
      "Epoch 16/100\n",
      "10000/10000 [==============================] - 10s 1ms/step - loss: 0.6845 - acc: 0.5501 - val_loss: 0.6704 - val_acc: 0.6500\n",
      "Epoch 17/100\n",
      "10000/10000 [==============================] - 10s 1ms/step - loss: 0.6244 - acc: 0.6678 - val_loss: 0.5533 - val_acc: 0.7340\n",
      "Epoch 18/100\n",
      "10000/10000 [==============================] - 10s 997us/step - loss: 0.5038 - acc: 0.7743 - val_loss: 0.4522 - val_acc: 0.8180\n",
      "Epoch 19/100\n",
      "10000/10000 [==============================] - 10s 995us/step - loss: 0.4371 - acc: 0.8155 - val_loss: 0.4227 - val_acc: 0.8220\n",
      "Epoch 20/100\n",
      "10000/10000 [==============================] - 10s 998us/step - loss: 0.4053 - acc: 0.8316 - val_loss: 0.3987 - val_acc: 0.8280\n",
      "Epoch 21/100\n",
      "10000/10000 [==============================] - 10s 1ms/step - loss: 0.3764 - acc: 0.8441 - val_loss: 0.3816 - val_acc: 0.8420\n",
      "Epoch 22/100\n",
      "10000/10000 [==============================] - 10s 1ms/step - loss: 0.3622 - acc: 0.8492 - val_loss: 0.3793 - val_acc: 0.8210\n",
      "Epoch 23/100\n",
      "10000/10000 [==============================] - 10s 1000us/step - loss: 0.3544 - acc: 0.8503 - val_loss: 0.3743 - val_acc: 0.8450\n",
      "Epoch 24/100\n",
      "10000/10000 [==============================] - 10s 999us/step - loss: 0.3408 - acc: 0.8560 - val_loss: 0.3686 - val_acc: 0.8310\n",
      "Epoch 25/100\n",
      "10000/10000 [==============================] - 10s 998us/step - loss: 0.3280 - acc: 0.8580 - val_loss: 0.3725 - val_acc: 0.8380\n",
      "Epoch 26/100\n",
      "10000/10000 [==============================] - 10s 1ms/step - loss: 0.3292 - acc: 0.8561 - val_loss: 0.3502 - val_acc: 0.8400\n",
      "Epoch 27/100\n",
      "10000/10000 [==============================] - 10s 1ms/step - loss: 0.3253 - acc: 0.8612 - val_loss: 0.3481 - val_acc: 0.8340\n",
      "Epoch 28/100\n",
      "10000/10000 [==============================] - 10s 1ms/step - loss: 0.3209 - acc: 0.8582 - val_loss: 0.3465 - val_acc: 0.8290\n",
      "Epoch 29/100\n",
      "10000/10000 [==============================] - 10s 1ms/step - loss: 0.3172 - acc: 0.8602 - val_loss: 0.3493 - val_acc: 0.8270\n",
      "Epoch 30/100\n",
      "10000/10000 [==============================] - 10s 1ms/step - loss: 0.3133 - acc: 0.8624 - val_loss: 0.3378 - val_acc: 0.8390\n",
      "Epoch 31/100\n",
      "10000/10000 [==============================] - 10s 1ms/step - loss: 0.3136 - acc: 0.8600 - val_loss: 0.3396 - val_acc: 0.8490\n",
      "Epoch 32/100\n",
      "10000/10000 [==============================] - 10s 1ms/step - loss: 0.3097 - acc: 0.8658 - val_loss: 0.3383 - val_acc: 0.8340\n",
      "Epoch 33/100\n",
      "10000/10000 [==============================] - 10s 1000us/step - loss: 0.3032 - acc: 0.8680 - val_loss: 0.3542 - val_acc: 0.8290\n",
      "Epoch 34/100\n",
      "10000/10000 [==============================] - 10s 1ms/step - loss: 0.3072 - acc: 0.8615 - val_loss: 0.3526 - val_acc: 0.8440\n",
      "Epoch 35/100\n",
      "10000/10000 [==============================] - 10s 1ms/step - loss: 0.3066 - acc: 0.8669 - val_loss: 0.3487 - val_acc: 0.8410\n",
      "Epoch 36/100\n",
      "10000/10000 [==============================] - 10s 1ms/step - loss: 0.3030 - acc: 0.8663 - val_loss: 0.3476 - val_acc: 0.8380\n",
      "Epoch 37/100\n",
      "10000/10000 [==============================] - 10s 1ms/step - loss: 0.3031 - acc: 0.8668 - val_loss: 0.3498 - val_acc: 0.8430\n",
      "Epoch 38/100\n",
      "10000/10000 [==============================] - 10s 1ms/step - loss: 0.3004 - acc: 0.8698 - val_loss: 0.3401 - val_acc: 0.8410\n",
      "Epoch 39/100\n",
      "10000/10000 [==============================] - 10s 1ms/step - loss: 0.2990 - acc: 0.8679 - val_loss: 0.3486 - val_acc: 0.8480\n",
      "Epoch 40/100\n",
      "10000/10000 [==============================] - 10s 1ms/step - loss: 0.3000 - acc: 0.8660 - val_loss: 0.3388 - val_acc: 0.8470\n",
      "Epoch 41/100\n",
      "10000/10000 [==============================] - 10s 1ms/step - loss: 0.2991 - acc: 0.8673 - val_loss: 0.3352 - val_acc: 0.8480\n",
      "Epoch 42/100\n",
      "10000/10000 [==============================] - 10s 1ms/step - loss: 0.2995 - acc: 0.8678 - val_loss: 0.3522 - val_acc: 0.8380\n",
      "Epoch 43/100\n",
      "10000/10000 [==============================] - 10s 1ms/step - loss: 0.2967 - acc: 0.8675 - val_loss: 0.3619 - val_acc: 0.8360\n",
      "Epoch 44/100\n",
      "10000/10000 [==============================] - 10s 1ms/step - loss: 0.2979 - acc: 0.8681 - val_loss: 0.3634 - val_acc: 0.8390\n",
      "Epoch 45/100\n",
      "10000/10000 [==============================] - 10s 1ms/step - loss: 0.2957 - acc: 0.8684 - val_loss: 0.3560 - val_acc: 0.8350\n",
      "Epoch 46/100\n",
      "10000/10000 [==============================] - 10s 1ms/step - loss: 0.2939 - acc: 0.8739 - val_loss: 0.3721 - val_acc: 0.8310\n",
      "Epoch 47/100\n",
      "10000/10000 [==============================] - 10s 1ms/step - loss: 0.2941 - acc: 0.8699 - val_loss: 0.3604 - val_acc: 0.8410\n",
      "Epoch 48/100\n",
      "10000/10000 [==============================] - 10s 1ms/step - loss: 0.2917 - acc: 0.8673 - val_loss: 0.3518 - val_acc: 0.8430\n",
      "Epoch 49/100\n",
      "10000/10000 [==============================] - 10s 1ms/step - loss: 0.2908 - acc: 0.8704 - val_loss: 0.3422 - val_acc: 0.8520\n",
      "Epoch 50/100\n",
      "10000/10000 [==============================] - 10s 1ms/step - loss: 0.2905 - acc: 0.8711 - val_loss: 0.3577 - val_acc: 0.8410\n",
      "Epoch 51/100\n",
      "10000/10000 [==============================] - 10s 1ms/step - loss: 0.2923 - acc: 0.8702 - val_loss: 0.3493 - val_acc: 0.8370\n",
      "Epoch 52/100\n",
      "10000/10000 [==============================] - 10s 1ms/step - loss: 0.2922 - acc: 0.8721 - val_loss: 0.3686 - val_acc: 0.8300\n",
      "Epoch 53/100\n",
      "10000/10000 [==============================] - 10s 1ms/step - loss: 0.2906 - acc: 0.8711 - val_loss: 0.3515 - val_acc: 0.8440\n",
      "Epoch 54/100\n",
      "10000/10000 [==============================] - 10s 1ms/step - loss: 0.2882 - acc: 0.8745 - val_loss: 0.3524 - val_acc: 0.8430\n",
      "Epoch 55/100\n",
      "10000/10000 [==============================] - 10s 1ms/step - loss: 0.2910 - acc: 0.8724 - val_loss: 0.3499 - val_acc: 0.8330\n",
      "Epoch 56/100\n",
      "10000/10000 [==============================] - 10s 1ms/step - loss: 0.2885 - acc: 0.8714 - val_loss: 0.3644 - val_acc: 0.8410\n",
      "Epoch 57/100\n",
      "10000/10000 [==============================] - 10s 1ms/step - loss: 0.2905 - acc: 0.8709 - val_loss: 0.3483 - val_acc: 0.8460\n",
      "Epoch 58/100\n",
      "10000/10000 [==============================] - 10s 1ms/step - loss: 0.2893 - acc: 0.8736 - val_loss: 0.3582 - val_acc: 0.8350\n",
      "Epoch 59/100\n"
     ]
    },
    {
     "name": "stdout",
     "output_type": "stream",
     "text": [
      "10000/10000 [==============================] - 10s 1ms/step - loss: 0.2874 - acc: 0.8746 - val_loss: 0.3722 - val_acc: 0.8350\n",
      "Epoch 60/100\n",
      "10000/10000 [==============================] - 10s 1ms/step - loss: 0.2816 - acc: 0.8752 - val_loss: 0.3697 - val_acc: 0.8360\n",
      "Epoch 61/100\n",
      "10000/10000 [==============================] - 10s 1ms/step - loss: 0.2857 - acc: 0.8750 - val_loss: 0.3588 - val_acc: 0.8330\n",
      "Epoch 62/100\n",
      "10000/10000 [==============================] - 10s 1ms/step - loss: 0.2877 - acc: 0.8751 - val_loss: 0.3564 - val_acc: 0.8420\n",
      "Epoch 63/100\n",
      "10000/10000 [==============================] - 10s 1ms/step - loss: 0.2857 - acc: 0.8768 - val_loss: 0.3668 - val_acc: 0.8460\n",
      "Epoch 64/100\n",
      "10000/10000 [==============================] - 10s 1ms/step - loss: 0.2797 - acc: 0.8750 - val_loss: 0.3609 - val_acc: 0.8520\n",
      "Epoch 65/100\n",
      "10000/10000 [==============================] - 10s 1ms/step - loss: 0.2834 - acc: 0.8788 - val_loss: 0.3775 - val_acc: 0.8370\n",
      "Epoch 66/100\n",
      "10000/10000 [==============================] - 10s 1ms/step - loss: 0.2812 - acc: 0.8774 - val_loss: 0.3722 - val_acc: 0.8410\n",
      "Epoch 67/100\n",
      "10000/10000 [==============================] - 10s 1ms/step - loss: 0.2734 - acc: 0.8809 - val_loss: 0.3804 - val_acc: 0.8380\n",
      "Epoch 68/100\n",
      "10000/10000 [==============================] - 10s 1ms/step - loss: 0.2818 - acc: 0.8791 - val_loss: 0.3424 - val_acc: 0.8360\n",
      "Epoch 69/100\n",
      "10000/10000 [==============================] - 10s 1ms/step - loss: 0.2748 - acc: 0.8800 - val_loss: 0.3679 - val_acc: 0.8430\n",
      "Epoch 70/100\n",
      "10000/10000 [==============================] - 10s 1ms/step - loss: 0.2779 - acc: 0.8767 - val_loss: 0.3520 - val_acc: 0.8370\n",
      "Epoch 71/100\n",
      "10000/10000 [==============================] - 10s 1ms/step - loss: 0.2812 - acc: 0.8772 - val_loss: 0.3769 - val_acc: 0.8330\n",
      "Epoch 72/100\n",
      "10000/10000 [==============================] - 10s 1ms/step - loss: 0.2768 - acc: 0.8771 - val_loss: 0.3625 - val_acc: 0.8490\n",
      "Epoch 73/100\n",
      "10000/10000 [==============================] - 10s 1ms/step - loss: 0.2732 - acc: 0.8803 - val_loss: 0.3658 - val_acc: 0.8320\n",
      "Epoch 74/100\n",
      "10000/10000 [==============================] - 10s 1ms/step - loss: 0.2722 - acc: 0.8824 - val_loss: 0.3655 - val_acc: 0.8330\n",
      "Epoch 75/100\n",
      "10000/10000 [==============================] - 10s 1ms/step - loss: 0.2703 - acc: 0.8806 - val_loss: 0.3596 - val_acc: 0.8410\n",
      "Epoch 76/100\n",
      "10000/10000 [==============================] - 10s 1ms/step - loss: 0.2737 - acc: 0.8778 - val_loss: 0.4003 - val_acc: 0.8390\n",
      "Epoch 77/100\n",
      "10000/10000 [==============================] - 10s 1ms/step - loss: 0.2668 - acc: 0.8817 - val_loss: 0.4142 - val_acc: 0.8380\n",
      "Epoch 78/100\n",
      "10000/10000 [==============================] - 10s 1ms/step - loss: 0.2649 - acc: 0.8836 - val_loss: 0.3569 - val_acc: 0.8440\n",
      "Epoch 79/100\n",
      "10000/10000 [==============================] - 10s 1ms/step - loss: 0.2669 - acc: 0.8830 - val_loss: 0.3642 - val_acc: 0.8380\n",
      "Epoch 80/100\n",
      "10000/10000 [==============================] - 10s 1ms/step - loss: 0.2710 - acc: 0.8865 - val_loss: 0.3860 - val_acc: 0.8330\n",
      "Epoch 81/100\n",
      "10000/10000 [==============================] - 10s 1ms/step - loss: 0.2662 - acc: 0.8857 - val_loss: 0.3700 - val_acc: 0.8380\n",
      "Epoch 82/100\n",
      "10000/10000 [==============================] - 10s 1ms/step - loss: 0.2581 - acc: 0.8847 - val_loss: 0.3862 - val_acc: 0.8360\n",
      "Epoch 83/100\n",
      "10000/10000 [==============================] - 10s 1ms/step - loss: 0.2654 - acc: 0.8870 - val_loss: 0.3939 - val_acc: 0.8300\n",
      "Epoch 84/100\n",
      "10000/10000 [==============================] - 10s 1ms/step - loss: 0.2637 - acc: 0.8858 - val_loss: 0.4187 - val_acc: 0.8220\n",
      "Epoch 85/100\n",
      "10000/10000 [==============================] - 10s 1ms/step - loss: 0.2595 - acc: 0.8899 - val_loss: 0.4159 - val_acc: 0.8380\n",
      "Epoch 86/100\n",
      "10000/10000 [==============================] - 10s 1ms/step - loss: 0.2620 - acc: 0.8891 - val_loss: 0.3628 - val_acc: 0.8410\n",
      "Epoch 87/100\n",
      "10000/10000 [==============================] - 10s 1ms/step - loss: 0.2610 - acc: 0.8883 - val_loss: 0.3868 - val_acc: 0.8410\n",
      "Epoch 88/100\n",
      "10000/10000 [==============================] - 10s 1ms/step - loss: 0.2564 - acc: 0.8877 - val_loss: 0.3605 - val_acc: 0.8380\n",
      "Epoch 89/100\n",
      "10000/10000 [==============================] - 11s 1ms/step - loss: 0.2578 - acc: 0.8871 - val_loss: 0.3981 - val_acc: 0.8420\n",
      "Epoch 90/100\n",
      "10000/10000 [==============================] - 11s 1ms/step - loss: 0.2544 - acc: 0.8912 - val_loss: 0.3516 - val_acc: 0.8370\n",
      "Epoch 91/100\n",
      "10000/10000 [==============================] - 11s 1ms/step - loss: 0.2480 - acc: 0.8917 - val_loss: 0.3806 - val_acc: 0.8420\n",
      "Epoch 92/100\n",
      "10000/10000 [==============================] - 12s 1ms/step - loss: 0.2535 - acc: 0.8877 - val_loss: 0.3896 - val_acc: 0.8390\n",
      "Epoch 93/100\n",
      "10000/10000 [==============================] - 12s 1ms/step - loss: 0.2474 - acc: 0.8944 - val_loss: 0.3689 - val_acc: 0.8410\n",
      "Epoch 94/100\n",
      "10000/10000 [==============================] - 12s 1ms/step - loss: 0.2512 - acc: 0.8909 - val_loss: 0.3886 - val_acc: 0.8430\n",
      "Epoch 95/100\n",
      "10000/10000 [==============================] - 12s 1ms/step - loss: 0.2497 - acc: 0.8952 - val_loss: 0.3995 - val_acc: 0.8380\n",
      "Epoch 96/100\n",
      "10000/10000 [==============================] - 12s 1ms/step - loss: 0.2456 - acc: 0.8956 - val_loss: 0.3801 - val_acc: 0.8370\n",
      "Epoch 97/100\n",
      "10000/10000 [==============================] - 12s 1ms/step - loss: 0.2387 - acc: 0.8953 - val_loss: 0.4062 - val_acc: 0.8360\n",
      "Epoch 98/100\n",
      "10000/10000 [==============================] - 12s 1ms/step - loss: 0.2452 - acc: 0.8953 - val_loss: 0.4273 - val_acc: 0.8440\n",
      "Epoch 99/100\n",
      "10000/10000 [==============================] - 12s 1ms/step - loss: 0.2383 - acc: 0.8984 - val_loss: 0.5047 - val_acc: 0.8300\n",
      "Epoch 100/100\n",
      "10000/10000 [==============================] - 12s 1ms/step - loss: 0.2428 - acc: 0.8961 - val_loss: 0.3863 - val_acc: 0.8380\n"
     ]
    }
   ],
   "source": [
    "history = model.fit([input_train, queries_train], answers_train, batch_size = 32, epochs = 100, validation_data = ([input_test, queries_test], answers_test))"
   ]
  },
  {
   "cell_type": "code",
   "execution_count": 49,
   "metadata": {},
   "outputs": [],
   "source": [
    "filename = 'chatbot_jwl_100_epochs.h5'\n",
    "model.save(filename)"
   ]
  },
  {
   "cell_type": "code",
   "execution_count": 55,
   "metadata": {},
   "outputs": [
    {
     "name": "stdout",
     "output_type": "stream",
     "text": [
      "dict_keys(['val_loss', 'val_acc', 'loss', 'acc'])\n"
     ]
    },
    {
     "data": {
      "image/png": "[encoded data removed]",
      "text/plain": [
       "<Figure size 432x288 with 1 Axes>"
      ]
     },
     "metadata": {
      "needs_background": "light"
     },
     "output_type": "display_data"
    }
   ],
   "source": [
    "import matplotlib.pyplot as plt\n",
    "%matplotlib inline\n",
    "print(history.history.keys())\n",
    "\n",
    "plt.plot(history.history['acc'])\n",
    "plt.plot(history.history['val_acc'])\n",
    "plt.title('model accuracy')\n",
    "plt.ylabel('accuracy')\n",
    "plt.xlabel('epoch')\n",
    "plt.legend(['train', 'test'], loc = 'upper left')\n",
    "plt.show()"
   ]
  },
  {
   "cell_type": "code",
   "execution_count": 56,
   "metadata": {},
   "outputs": [],
   "source": [
    "predict_results = model.predict(([input_test, queries_test]))"
   ]
  },
  {
   "cell_type": "code",
   "execution_count": 60,
   "metadata": {},
   "outputs": [
    {
     "data": {
      "text/plain": [
       "(['Mary',\n",
       "  'got',\n",
       "  'the',\n",
       "  'milk',\n",
       "  'there',\n",
       "  '.',\n",
       "  'John',\n",
       "  'moved',\n",
       "  'to',\n",
       "  'the',\n",
       "  'bedroom',\n",
       "  '.'],\n",
       " ['Is', 'John', 'in', 'the', 'kitchen', '?'],\n",
       " 'no')"
      ]
     },
     "execution_count": 60,
     "metadata": {},
     "output_type": "execute_result"
    }
   ],
   "source": [
    "test_data[0]"
   ]
  },
  {
   "cell_type": "code",
   "execution_count": 61,
   "metadata": {},
   "outputs": [
    {
     "data": {
      "text/plain": [
       "array([1.33439702e-20, 1.61223867e-20, 1.44818710e-20, 1.40011757e-20,\n",
       "       1.66986973e-20, 1.10844634e-20, 1.13837000e-20, 1.25420533e-20,\n",
       "       1.16911026e-20, 1.36195159e-20, 1.62792990e-20, 1.22839940e-20,\n",
       "       1.66975502e-20, 1.73411275e-20, 1.18130415e-20, 1.46754006e-20,\n",
       "       5.50589732e-07, 1.44860150e-20, 1.12693746e-20, 1.51089369e-20,\n",
       "       1.63574223e-20, 1.49957037e-20, 1.35580379e-20, 9.99999404e-01,\n",
       "       1.43944080e-20, 1.59851474e-20, 1.70485882e-20, 1.53875498e-20,\n",
       "       1.25732382e-20, 1.42133088e-20, 1.56460954e-20, 1.10312718e-20,\n",
       "       1.42485415e-20, 1.36893125e-20, 1.77668557e-20, 1.54249280e-20,\n",
       "       1.60280122e-20, 1.43315633e-20], dtype=float32)"
      ]
     },
     "execution_count": 61,
     "metadata": {},
     "output_type": "execute_result"
    }
   ],
   "source": [
    "predict_results[0]"
   ]
  },
  {
   "cell_type": "code",
   "execution_count": 62,
   "metadata": {},
   "outputs": [],
   "source": [
    "valmax = np.argmax(predict_results[0])"
   ]
  },
  {
   "cell_type": "code",
   "execution_count": 64,
   "metadata": {},
   "outputs": [],
   "source": [
    "for key, val in tokenizer.word_index.items():\n",
    "    if val == valmax:\n",
    "        k = key"
   ]
  },
  {
   "cell_type": "code",
   "execution_count": 65,
   "metadata": {},
   "outputs": [
    {
     "data": {
      "text/plain": [
       "'no'"
      ]
     },
     "execution_count": 65,
     "metadata": {},
     "output_type": "execute_result"
    }
   ],
   "source": [
    "k"
   ]
  },
  {
   "cell_type": "code",
   "execution_count": 66,
   "metadata": {},
   "outputs": [
    {
     "data": {
      "text/plain": [
       "0.9999994"
      ]
     },
     "execution_count": 66,
     "metadata": {},
     "output_type": "execute_result"
    }
   ],
   "source": [
    "predict_results[0][valmax]"
   ]
  },
  {
   "cell_type": "code",
   "execution_count": 67,
   "metadata": {},
   "outputs": [],
   "source": [
    "my_story = \"John left the kitchen . Sandra dropped the football in the garden .\"\n",
    "my_ques = \"Is the football in the garden ?\""
   ]
  },
  {
   "cell_type": "code",
   "execution_count": 68,
   "metadata": {},
   "outputs": [],
   "source": [
    "my_data = [(my_story.split(), my_ques.split(), 'yes')]"
   ]
  },
  {
   "cell_type": "code",
   "execution_count": 69,
   "metadata": {},
   "outputs": [
    {
     "data": {
      "text/plain": [
       "[(['John',\n",
       "   'left',\n",
       "   'the',\n",
       "   'kitchen',\n",
       "   '.',\n",
       "   'Sandra',\n",
       "   'dropped',\n",
       "   'the',\n",
       "   'football',\n",
       "   'in',\n",
       "   'the',\n",
       "   'garden',\n",
       "   '.'],\n",
       "  ['Is', 'the', 'football', 'in', 'the', 'garden', '?'],\n",
       "  'yes')]"
      ]
     },
     "execution_count": 69,
     "metadata": {},
     "output_type": "execute_result"
    }
   ],
   "source": [
    "my_data"
   ]
  },
  {
   "cell_type": "code",
   "execution_count": 70,
   "metadata": {},
   "outputs": [],
   "source": [
    "my_story, my_ques, my_answer = vectorize_stories(my_data)"
   ]
  },
  {
   "cell_type": "code",
   "execution_count": 71,
   "metadata": {},
   "outputs": [],
   "source": [
    "my_result = model.predict([my_story, my_ques])"
   ]
  },
  {
   "cell_type": "code",
   "execution_count": 72,
   "metadata": {},
   "outputs": [],
   "source": [
    "valmax = np.argmax(my_result[0])"
   ]
  },
  {
   "cell_type": "code",
   "execution_count": 73,
   "metadata": {},
   "outputs": [],
   "source": [
    "for key, val in tokenizer.word_index.items():\n",
    "    if val == valmax:\n",
    "        k = key"
   ]
  },
  {
   "cell_type": "code",
   "execution_count": 74,
   "metadata": {},
   "outputs": [
    {
     "data": {
      "text/plain": [
       "'yes'"
      ]
     },
     "execution_count": 74,
     "metadata": {},
     "output_type": "execute_result"
    }
   ],
   "source": [
    "k"
   ]
  },
  {
   "cell_type": "code",
   "execution_count": 76,
   "metadata": {},
   "outputs": [
    {
     "data": {
      "text/plain": [
       "0.94849336"
      ]
     },
     "execution_count": 76,
     "metadata": {},
     "output_type": "execute_result"
    }
   ],
   "source": [
    "my_result[0][valmax]"
   ]
  },
  {
   "cell_type": "code",
   "execution_count": null,
   "metadata": {},
   "outputs": [],
   "source": []
  }
 ],
 "metadata": {
  "kernelspec": {
   "display_name": "Python 3",
   "language": "python",
   "name": "python3"
  },
  "language_info": {
   "codemirror_mode": {
    "name": "ipython",
    "version": 3
   },
   "file_extension": ".py",
   "mimetype": "text/x-python",
   "name": "python",
   "nbconvert_exporter": "python",
   "pygments_lexer": "ipython3",
   "version": "3.6.8"
  }
 },
 "nbformat": 4,
 "nbformat_minor": 2
}
